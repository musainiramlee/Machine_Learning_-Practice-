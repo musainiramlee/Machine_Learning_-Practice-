{
 "cells": [
  {
   "cell_type": "code",
   "execution_count": 5,
   "metadata": {},
   "outputs": [
    {
     "name": "stdout",
     "output_type": "stream",
     "text": [
      "    age  gender\n",
      "9    20       0\n",
      "7    33       1\n",
      "1    23       1\n",
      "11   25       0 ['Dance' 'Classical' 'HipHop' 'Acoustic']\n",
      "The accuracy of this model is 75.0%\n"
     ]
    }
   ],
   "source": [
    "import pandas as pd\n",
    "from sklearn.externals import joblib\n",
    "from sklearn.model_selection import train_test_split\n",
    "from sklearn.metrics import accuracy_score\n",
    "\n",
    "df = pd.read_csv('music.csv')\n",
    "X = df.drop(columns = 'genre')\n",
    "y = df['genre']\n",
    "X_train, X_test, y_train, y_test = train_test_split(X, y, test_size = 0.2)  \n",
    "\n",
    "model = joblib.load('music-classifier')  \n",
    "prediction = model.predict(X_test)  \n",
    "print(X_test, prediction)\n",
    "accuracy = accuracy_score(y_test, prediction)*100  \n",
    "\n",
    "print(f'The accuracy of this model is {accuracy}%')"
   ]
  },
  {
   "cell_type": "code",
   "execution_count": 6,
   "metadata": {},
   "outputs": [],
   "source": [
    "from sklearn import tree  # Need to import this to visualize the decission tree\n",
    "\n",
    "tree.export_graphviz(model, out_file='music-classifier.dot',\n",
    "                    feature_names=['age', 'gender'],  # The inputs\n",
    "                    class_names=sorted(y.unique()),  # The output\n",
    "                    label='all',\n",
    "                    rounded=True,\n",
    "                    filled=True)"
   ]
  },
  {
   "cell_type": "code",
   "execution_count": null,
   "metadata": {},
   "outputs": [],
   "source": []
  }
 ],
 "metadata": {
  "kernelspec": {
   "display_name": "Python",
   "language": "python",
   "name": "conda-env-python-py"
  },
  "language_info": {
   "codemirror_mode": {
    "name": "ipython",
    "version": 3
   },
   "file_extension": ".py",
   "mimetype": "text/x-python",
   "name": "python",
   "nbconvert_exporter": "python",
   "pygments_lexer": "ipython3",
   "version": "3.6.10"
  }
 },
 "nbformat": 4,
 "nbformat_minor": 4
}
