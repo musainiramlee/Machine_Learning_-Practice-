{
 "cells": [
  {
   "cell_type": "code",
   "execution_count": 35,
   "metadata": {},
   "outputs": [
    {
     "name": "stdout",
     "output_type": "stream",
     "text": [
      "    age  gender\n",
      "16   34       0\n",
      "8    37       1\n",
      "15   31       0\n",
      "0    20       1 ['Classical' 'Classical' 'Classical' 'HipHop']\n",
      "The accuracy of this model is 100.0%\n"
     ]
    }
   ],
   "source": [
    "import pandas as pd\n",
    "from sklearn.tree import DecisionTreeClassifier\n",
    "from sklearn.model_selection import train_test_split\n",
    "from sklearn.metrics import accuracy_score\n",
    "\n",
    "df = pd.read_csv('music.csv')\n",
    "X = df.drop(columns = 'genre')\n",
    "y = df['genre']\n",
    "X_train, X_test, y_train, y_test = train_test_split(X, y, test_size = 0.2)  # Use train test split to split X(input) and y(output) into 20% test size\n",
    "# When using train_test_split method, it will return a tuple, thefore, we need to specify the tuple element (X_train, X_test, y_train, y_test)\n",
    "\n",
    "# Create Model\n",
    "model = DecisionTreeClassifier()\n",
    "model.fit(X_train, y_train)  # fit the model with the training dataset\n",
    "prediction = model.predict(X_test)  # The prediction model\n",
    "\n",
    "print(X_test, prediction)\n",
    "accuracy = accuracy_score(y_test, prediction)*100  # Check the accuracy score\n",
    "\n",
    "print(f'The accuracy of this model is {accuracy}%')"
   ]
  }
 ],
 "metadata": {
  "kernelspec": {
   "display_name": "Python",
   "language": "python",
   "name": "conda-env-python-py"
  },
  "language_info": {
   "codemirror_mode": {
    "name": "ipython",
    "version": 3
   },
   "file_extension": ".py",
   "mimetype": "text/x-python",
   "name": "python",
   "nbconvert_exporter": "python",
   "pygments_lexer": "ipython3",
   "version": "3.6.10"
  }
 },
 "nbformat": 4,
 "nbformat_minor": 4
}
