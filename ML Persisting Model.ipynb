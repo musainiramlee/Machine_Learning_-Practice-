{
 "cells": [
  {
   "cell_type": "code",
   "execution_count": 4,
   "metadata": {},
   "outputs": [
    {
     "name": "stdout",
     "output_type": "stream",
     "text": [
      "    age  gender\n",
      "7    33       1\n",
      "6    31       1\n",
      "9    20       0\n",
      "16   34       0 ['Classical' 'Classical' 'Dance' 'Classical']\n",
      "The accuracy of this model is 100.0%\n"
     ]
    }
   ],
   "source": [
    "from sklearn.externals import joblib\n",
    "from sklearn.model_selection import train_test_split\n",
    "from sklearn.metrics import accuracy_score\n",
    "import pandas as pd\n",
    "\n",
    "df = pd.read_csv('music.csv')\n",
    "X = df.drop(columns = 'genre')\n",
    "y = df['genre']\n",
    "X_train, X_test, y_train, y_test = train_test_split(X, y, test_size = 0.2)  \n",
    "\n",
    "\n",
    "model = joblib.load('music-classifier')\n",
    "prediction = model.predict(X_test)  # The prediction model\n",
    "print(X_test, prediction)\n",
    "accuracy = accuracy_score(y_test, prediction)*100  # Check the accuracy score\n",
    "\n",
    "print(f'The accuracy of this model is {accuracy}%')"
   ]
  }
 ],
 "metadata": {
  "kernelspec": {
   "display_name": "Python",
   "language": "python",
   "name": "conda-env-python-py"
  },
  "language_info": {
   "codemirror_mode": {
    "name": "ipython",
    "version": 3
   },
   "file_extension": ".py",
   "mimetype": "text/x-python",
   "name": "python",
   "nbconvert_exporter": "python",
   "pygments_lexer": "ipython3",
   "version": "3.6.10"
  }
 },
 "nbformat": 4,
 "nbformat_minor": 4
}
